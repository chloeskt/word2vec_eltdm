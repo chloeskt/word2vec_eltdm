{
 "cells": [
  {
   "cell_type": "code",
   "execution_count": null,
   "id": "b083d0bf-d23a-45b1-b40c-ab0e765b7dc4",
   "metadata": {},
   "outputs": [],
   "source": [
    "import numpy as np\n",
    "import sys\n",
    "import time\n",
    "import random\n",
    "from tqdm.notebook import tqdm\n",
    "\n",
    "sys.path.append('/home/kaliayev/Documents/ENSAE/elements_logiciels/word2vec_eltdm')\n",
    "\n",
    "%load_ext autoreload\n",
    "%autoreload 2"
   ]
  },
  {
   "cell_type": "code",
   "execution_count": null,
   "id": "a5a8d855-3872-4774-bb10-ac73d5a02a2a",
   "metadata": {},
   "outputs": [],
   "source": [
    "from word2vec_eltdm.word2vec_numpy import (\n",
    "    Tokenizer, VocabCreator, DataLoader, TokenCleaner, Preprocessor,\n",
    "    Subsampler)"
   ]
  },
  {
   "cell_type": "markdown",
   "id": "dc0f517c-5602-449e-af4d-c881cff6c7c9",
   "metadata": {},
   "source": [
    "## Get data and create vocab"
   ]
  },
  {
   "cell_type": "code",
   "execution_count": null,
   "id": "db16e016-0677-4910-b630-53729efafd20",
   "metadata": {},
   "outputs": [],
   "source": [
    "datapath = \"../data/text8.txt\"\n",
    "\n",
    "tokenizer = Tokenizer(datapath)\n",
    "token_cleaner = TokenCleaner(freq_threshold=3)\n",
    "vocab_creator = VocabCreator()\n",
    "text8_dataset = Preprocessor(tokenizer, token_cleaner, vocab_creator).preprocess()"
   ]
  },
  {
   "cell_type": "code",
   "execution_count": null,
   "id": "5c5aaebb-65ad-4424-a030-42b5323710d3",
   "metadata": {},
   "outputs": [],
   "source": [
    "print(\"Size of our vocabulary:\", len(text8_dataset.tokens_to_id))\n",
    "print(\"Number of tokens in our train dataset:\", len(text8_dataset.train_tokens))\n",
    "print(\"Number of tokens in our val dataset:\", len(text8_dataset.val_tokens))\n",
    "print(\"Number of tokens in our test dataset:\", len(text8_dataset.test_tokens))"
   ]
  },
  {
   "cell_type": "markdown",
   "id": "6a2b10ad-ecaa-432b-9cb7-78b685b22475",
   "metadata": {},
   "source": [
    "## Subsampling of frequent words, as in Mikolov 2013."
   ]
  },
  {
   "cell_type": "code",
   "execution_count": null,
   "id": "c3f34449-b003-4adf-a869-11054cfe2cdc",
   "metadata": {
    "tags": []
   },
   "outputs": [],
   "source": [
    "subsampler = Subsampler(text8_dataset.train_tokens)\n",
    "text8_dataset.train_tokens = subsampler.subsample()"
   ]
  },
  {
   "cell_type": "code",
   "execution_count": null,
   "id": "06f0e1cf-47fb-4d76-a33b-af57574af026",
   "metadata": {},
   "outputs": [],
   "source": [
    "print(\"Size of our vocabulary after subsampling of frequent words:\", len(words_to_id))"
   ]
  },
  {
   "cell_type": "code",
   "execution_count": null,
   "id": "d44184e2-52b4-4063-8d19-d6efbb7139a3",
   "metadata": {},
   "outputs": [],
   "source": [
    "print(\"Number of tokens in  dataset:\", len(tokens))"
   ]
  },
  {
   "cell_type": "markdown",
   "id": "c007df8b-5765-4aff-9098-cf931f2a00d9",
   "metadata": {},
   "source": [
    "## DataLoader"
   ]
  },
  {
   "cell_type": "code",
   "execution_count": null,
   "id": "8b72de46-a391-4740-8a84-daa0a79e4193",
   "metadata": {},
   "outputs": [],
   "source": [
    "window = 5\n",
    "batch_size = 256\n",
    "train_dataloader = DataLoader(text8_dataset, text8_dataset.train_tokens, window, batch_size)"
   ]
  },
  {
   "cell_type": "code",
   "execution_count": null,
   "id": "42cfbb11-47dd-46be-8da8-568dc9c118a4",
   "metadata": {
    "tags": []
   },
   "outputs": [],
   "source": [
    "start = time.perf_counter()\n",
    "for batch in tqdm(train_dataloader):\n",
    "    X, y = batch[\"X\"], batch[\"y\"]\n",
    "end = time.perf_counter()\n",
    "print(f\"Lopped through all the training dataset in {end - start:0.4f} seconds\")"
   ]
  },
  {
   "cell_type": "markdown",
   "id": "91415ffb-99d6-4e4f-8756-e695a9d39bba",
   "metadata": {},
   "source": [
    "Lopped through all the dataset in 5773.5713 seconds"
   ]
  }
 ],
 "metadata": {
  "kernelspec": {
   "display_name": "Python 3 (ipykernel)",
   "language": "python",
   "name": "python3"
  },
  "language_info": {
   "codemirror_mode": {
    "name": "ipython",
    "version": 3
   },
   "file_extension": ".py",
   "mimetype": "text/x-python",
   "name": "python",
   "nbconvert_exporter": "python",
   "pygments_lexer": "ipython3",
   "version": "3.8.10"
  }
 },
 "nbformat": 4,
 "nbformat_minor": 5
}
