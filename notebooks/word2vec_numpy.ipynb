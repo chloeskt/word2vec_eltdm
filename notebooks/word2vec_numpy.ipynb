{
 "cells": [
  {
   "cell_type": "code",
   "execution_count": null,
   "id": "b083d0bf-d23a-45b1-b40c-ab0e765b7dc4",
   "metadata": {},
   "outputs": [],
   "source": [
    "import numpy as np\n",
    "import sys\n",
    "import time\n",
    "from tqdm.notebook import tqdm\n",
    "\n",
    "sys.path.append('/home/kaliayev/Documents/ENSAE/elements_logiciels/word2vec_eltdm')\n",
    "\n",
    "%load_ext autoreload\n",
    "%autoreload 2"
   ]
  },
  {
   "cell_type": "code",
   "execution_count": null,
   "id": "a5a8d855-3872-4774-bb10-ac73d5a02a2a",
   "metadata": {},
   "outputs": [],
   "source": [
    "from word2vec_eltdm.word2vec_numpy import Tokenizer, VocabCreator, DataLoader"
   ]
  },
  {
   "cell_type": "code",
   "execution_count": null,
   "id": "db16e016-0677-4910-b630-53729efafd20",
   "metadata": {},
   "outputs": [],
   "source": [
    "datapath = \"../data/text8.txt\"\n",
    "\n",
    "tokens = Tokenizer(datapath).get_tokens()\n",
    "words_to_id, id_to_words = VocabCreator(tokens).create_vocab()"
   ]
  },
  {
   "cell_type": "code",
   "execution_count": null,
   "id": "aaea6ad9-88b6-4819-a5d9-16fda9f964f0",
   "metadata": {},
   "outputs": [],
   "source": [
    "print(\"Number of tokens in our dataset:\", len(tokens))"
   ]
  },
  {
   "cell_type": "code",
   "execution_count": null,
   "id": "5c5aaebb-65ad-4424-a030-42b5323710d3",
   "metadata": {},
   "outputs": [],
   "source": [
    "print(\"Size of our vocabulary:\", len(words_to_id))"
   ]
  },
  {
   "cell_type": "code",
   "execution_count": null,
   "id": "8b72de46-a391-4740-8a84-daa0a79e4193",
   "metadata": {},
   "outputs": [],
   "source": [
    "window = 4\n",
    "batch_size = 128\n",
    "dataloader = DataLoader(tokens, words_to_id, window, batch_size)"
   ]
  },
  {
   "cell_type": "code",
   "execution_count": null,
   "id": "42cfbb11-47dd-46be-8da8-568dc9c118a4",
   "metadata": {},
   "outputs": [],
   "source": [
    "start = time.perf_counter()\n",
    "for batch in tqdm(dataloader):\n",
    "    X, y = batch[\"X\"], batch[\"y\"]\n",
    "end = time.perf_counter()\n",
    "print(f\"Lopped through all the dataset in {end - start:0.4f} seconds\")"
   ]
  },
  {
   "cell_type": "code",
   "execution_count": null,
   "id": "bcc35564-cdfc-47fd-b65f-df35fbed462b",
   "metadata": {},
   "outputs": [],
   "source": []
  }
 ],
 "metadata": {
  "kernelspec": {
   "display_name": "Python 3 (ipykernel)",
   "language": "python",
   "name": "python3"
  },
  "language_info": {
   "codemirror_mode": {
    "name": "ipython",
    "version": 3
   },
   "file_extension": ".py",
   "mimetype": "text/x-python",
   "name": "python",
   "nbconvert_exporter": "python",
   "pygments_lexer": "ipython3",
   "version": "3.8.10"
  }
 },
 "nbformat": 4,
 "nbformat_minor": 5
}
