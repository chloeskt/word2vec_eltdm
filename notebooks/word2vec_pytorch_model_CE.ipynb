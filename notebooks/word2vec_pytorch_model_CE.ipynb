{
 "cells": [
  {
   "cell_type": "code",
   "execution_count": 1,
   "id": "b083d0bf-d23a-45b1-b40c-ab0e765b7dc4",
   "metadata": {},
   "outputs": [],
   "source": [
    "import numpy as np\n",
    "import sys\n",
    "import time\n",
    "import random\n",
    "from tqdm.notebook import tqdm, trange\n",
    "import matplotlib.pyplot as plt\n",
    "\n",
    "import torch\n",
    "import torch.nn as nn\n",
    "import torch.optim as optim\n",
    "\n",
    "sys.path.append('/home/kaliayev/Documents/ENSAE/elements_logiciels/word2vec_eltdm')\n",
    "\n",
    "%load_ext autoreload\n",
    "%autoreload 2"
   ]
  },
  {
   "cell_type": "code",
   "execution_count": 2,
   "id": "a5a8d855-3872-4774-bb10-ac73d5a02a2a",
   "metadata": {},
   "outputs": [],
   "source": [
    "from word2vec_eltdm.common import Tokenizer, VocabCreator, DataLoader, TokenCleaner, Preprocessor, Subsampler, evaluate\n",
    "from word2vec_eltdm.word2vec_accelerated import PytorchSimpleWord2Vec, train_default, update_best_loss"
   ]
  },
  {
   "cell_type": "markdown",
   "id": "dc0f517c-5602-449e-af4d-c881cff6c7c9",
   "metadata": {},
   "source": [
    "## Get data and create vocab"
   ]
  },
  {
   "cell_type": "code",
   "execution_count": 3,
   "id": "db16e016-0677-4910-b630-53729efafd20",
   "metadata": {},
   "outputs": [],
   "source": [
    "datapath = \"../data/text8.txt\"\n",
    "\n",
    "RATIO = 0.01\n",
    "tokenizer = Tokenizer(datapath)\n",
    "token_cleaner = TokenCleaner(freq_threshold=5)\n",
    "vocab_creator = VocabCreator()\n",
    "text8_dataset = Preprocessor(tokenizer, token_cleaner, vocab_creator, RATIO).preprocess()\n",
    "\n",
    "device = 'cuda' if torch.cuda.is_available() else 'cpu'"
   ]
  },
  {
   "cell_type": "code",
   "execution_count": 4,
   "id": "5c5aaebb-65ad-4424-a030-42b5323710d3",
   "metadata": {},
   "outputs": [
    {
     "name": "stdout",
     "output_type": "stream",
     "text": [
      "Size of our vocabulary: 3269\n"
     ]
    }
   ],
   "source": [
    "print(\"Size of our vocabulary:\", len(text8_dataset.tokens_to_id))"
   ]
  },
  {
   "cell_type": "code",
   "execution_count": 5,
   "id": "a2d804d6-3844-40d9-ad5b-21a6e5aef46f",
   "metadata": {},
   "outputs": [
    {
     "name": "stdout",
     "output_type": "stream",
     "text": [
      "Number of tokens in our train dataset: 82228\n"
     ]
    }
   ],
   "source": [
    "print(\"Number of tokens in our train dataset:\", len(text8_dataset.train_tokens))"
   ]
  },
  {
   "cell_type": "code",
   "execution_count": 6,
   "id": "dc6be05b-fc5a-4b24-acca-85b56190cce7",
   "metadata": {},
   "outputs": [
    {
     "name": "stdout",
     "output_type": "stream",
     "text": [
      "Number of tokens in our val dataset: 0\n"
     ]
    }
   ],
   "source": [
    "print(\"Number of tokens in our val dataset:\", len(text8_dataset.val_tokens))"
   ]
  },
  {
   "cell_type": "code",
   "execution_count": 7,
   "id": "285ebad4-5d79-486a-80b5-7e46c00f9a1d",
   "metadata": {},
   "outputs": [
    {
     "name": "stdout",
     "output_type": "stream",
     "text": [
      "Number of tokens in our test dataset: 0\n"
     ]
    }
   ],
   "source": [
    "print(\"Number of tokens in our test dataset:\", len(text8_dataset.test_tokens))"
   ]
  },
  {
   "cell_type": "markdown",
   "id": "6a2b10ad-ecaa-432b-9cb7-78b685b22475",
   "metadata": {},
   "source": [
    "## Subsampling of frequent words, as in Mikolov 2013."
   ]
  },
  {
   "cell_type": "code",
   "execution_count": 8,
   "id": "c3f34449-b003-4adf-a869-11054cfe2cdc",
   "metadata": {
    "tags": []
   },
   "outputs": [],
   "source": [
    "subsampler = Subsampler(text8_dataset.train_tokens)\n",
    "text8_dataset.train_tokens, text8_dataset.frequencies = subsampler.subsample()"
   ]
  },
  {
   "cell_type": "code",
   "execution_count": 9,
   "id": "06f0e1cf-47fb-4d76-a33b-af57574af026",
   "metadata": {},
   "outputs": [
    {
     "name": "stdout",
     "output_type": "stream",
     "text": [
      "Size of our vocabulary after subsampling of frequent words, for train: 3269\n"
     ]
    }
   ],
   "source": [
    "print(\"Size of our vocabulary after subsampling of frequent words, for train:\", len(text8_dataset.tokens_to_id))"
   ]
  },
  {
   "cell_type": "code",
   "execution_count": 10,
   "id": "d44184e2-52b4-4063-8d19-d6efbb7139a3",
   "metadata": {},
   "outputs": [
    {
     "name": "stdout",
     "output_type": "stream",
     "text": [
      "Number of tokens in train dataset: 12529\n"
     ]
    }
   ],
   "source": [
    "print(\"Number of tokens in train dataset:\", len(text8_dataset.train_tokens))"
   ]
  },
  {
   "cell_type": "markdown",
   "id": "c007df8b-5765-4aff-9098-cf931f2a00d9",
   "metadata": {},
   "source": [
    "## DataLoader"
   ]
  },
  {
   "cell_type": "code",
   "execution_count": 11,
   "id": "8b72de46-a391-4740-8a84-daa0a79e4193",
   "metadata": {},
   "outputs": [],
   "source": [
    "window = 5\n",
    "batch_size = 512\n",
    "train_dataloader = DataLoader(text8_dataset, text8_dataset.train_tokens, window, batch_size)\n",
    "val_dataloader = DataLoader(text8_dataset, text8_dataset.val_tokens, window, batch_size)\n",
    "test_dataloader = DataLoader(text8_dataset, text8_dataset.test_tokens, window, batch_size)"
   ]
  },
  {
   "cell_type": "markdown",
   "id": "01627b9b-7c44-41fb-a823-826ac32fc632",
   "metadata": {},
   "source": [
    "## Model"
   ]
  },
  {
   "cell_type": "code",
   "execution_count": 12,
   "id": "2dbafcb7-5117-425e-8308-4cf8d06f505e",
   "metadata": {},
   "outputs": [],
   "source": [
    "# defining the parameters\n",
    "len_vocab = len(text8_dataset.tokens_to_id)\n",
    "embedding_size = 300\n",
    "learning_rate = 0.003\n",
    "\n",
    "# instantiate the model\n",
    "model = PytorchSimpleWord2Vec(\n",
    "    len_vocab,\n",
    "    embedding_size\n",
    ").to(device)\n",
    "model.initialize_weights()\n",
    "\n",
    "\n",
    "# using the loss that we defined\n",
    "criterion = nn.CrossEntropyLoss()\n",
    "optimizer = optim.Adam(model.parameters(), lr=learning_rate)"
   ]
  },
  {
   "cell_type": "markdown",
   "id": "f4561f68-f821-4b25-abe5-a03a12b7eeba",
   "metadata": {},
   "source": [
    "## Training"
   ]
  },
  {
   "cell_type": "code",
   "execution_count": 13,
   "id": "0422f48a-b406-4aba-8d17-504836ae2ee9",
   "metadata": {
    "scrolled": false,
    "tags": []
   },
   "outputs": [
    {
     "data": {
      "application/vnd.jupyter.widget-view+json": {
       "model_id": "e4ec681d90454c4c89636aeeea5510e0",
       "version_major": 2,
       "version_minor": 0
      },
      "text/plain": [
       "  0%|          | 0/5 [00:00<?, ?it/s]"
      ]
     },
     "metadata": {},
     "output_type": "display_data"
    },
    {
     "name": "stdout",
     "output_type": "stream",
     "text": [
      "###################### EPOCH 0 ###########################\n"
     ]
    },
    {
     "data": {
      "application/vnd.jupyter.widget-view+json": {
       "model_id": "8f57511c308e4c9c8ced289a961bb29f",
       "version_major": 2,
       "version_minor": 0
      },
      "text/plain": [
       "  0%|          | 0/25 [00:00<?, ?it/s]"
      ]
     },
     "metadata": {},
     "output_type": "display_data"
    },
    {
     "name": "stdout",
     "output_type": "stream",
     "text": [
      "Current Training Loss 8.09248\n",
      "Training loss: 8.092293739318848\n",
      "Now best model has 8.092293739318848 loss\n",
      "Saving model\n",
      "seven | crop, georgia, classified, drawn, heroes\n",
      "b | average, alan, diagnostic, class, educated\n",
      "th | rain, leads, poor, egoism, benjamin\n",
      "since | cure, carl, angles, destroy, may\n",
      "anchorage | races, speed, experimental, accounts, proclamation\n",
      "america | ceremony, huge, evolution, questions, achievement\n",
      "culture | solely, service, hermetical, damage, party\n",
      "groups | identify, negative, thousands, per, nuclear\n",
      "called | away, ethics, usage, oracle, removal\n",
      "later | houses, trucial, controversy, mental, feelings\n",
      "program | producers, prize, majority, saharan, agreement\n",
      "truth | council, movie, proudhon, fully, spread\n",
      "married | enemies, issued, mention, surrounded, principle\n",
      "reading | newman, stamps, human, mainly, mere\n",
      "mines | tunisia, buried, admetus, contiguous, pass\n",
      "clear | keep, efforts, anarchists, transport, surveillance\n",
      "efforts | clear, plus, rothbard, essential, leading\n",
      "oxygen | northeast, elementary, finally, dwan, baker\n",
      "upper | apart, trying, legal, software, hope\n",
      "conformation | pressure, season, million, rain, required\n",
      "###################### EPOCH 1 ###########################\n"
     ]
    },
    {
     "data": {
      "application/vnd.jupyter.widget-view+json": {
       "model_id": "5a74b6e6e0da4280abf43050d1e3c373",
       "version_major": 2,
       "version_minor": 0
      },
      "text/plain": [
       "  0%|          | 0/25 [00:00<?, ?it/s]"
      ]
     },
     "metadata": {},
     "output_type": "display_data"
    },
    {
     "name": "stdout",
     "output_type": "stream",
     "text": [
      "Current Training Loss 8.09129\n",
      "Training loss: 8.089818954467773\n",
      "Now best model has 8.089818954467773 loss\n",
      "Saving model\n",
      "would | models, book, arts, meaning, marked\n",
      "often | five, societies, animated, source, broader\n",
      "anchorage | races, speed, experimental, accounts, proclamation\n",
      "gore | principles, parts, claim, slam, attributed\n",
      "five | double, jewish, often, understanding, producers\n",
      "however | instance, rational, prefer, per, lives\n",
      "taggart | sought, york, vowel, ethical, anthropology\n",
      "seven | georgia, crop, classified, heroes, drawn\n",
      "us | genetic, bay, composition, contain, track\n",
      "years | ship, main, numerous, criticisms, communicate\n",
      "freedom | multiple, al, rett, raising, ca\n",
      "awareness | struck, calling, irrigation, string, system\n",
      "examples | men, altruistic, relevant, robert, sounds\n",
      "developmental | brought, land, concern, look, propane\n",
      "slave | must, secure, similarities, taken, exception\n",
      "lives | resulted, mercury, extensively, moment, almost\n",
      "signed | emirates, frequently, angeles, plans, myths\n",
      "iraq | discussing, arithmetic, ethnic, channel, publicly\n",
      "ranked | references, asked, printable, truly, bob\n",
      "universe | age, defendant, involves, example, layer\n",
      "###################### EPOCH 2 ###########################\n"
     ]
    },
    {
     "data": {
      "application/vnd.jupyter.widget-view+json": {
       "model_id": "94f5d521746b48b489e8b963332fcf25",
       "version_major": 2,
       "version_minor": 0
      },
      "text/plain": [
       "  0%|          | 0/25 [00:00<?, ?it/s]"
      ]
     },
     "metadata": {},
     "output_type": "display_data"
    },
    {
     "name": "stdout",
     "output_type": "stream",
     "text": [
      "Current Training Loss 8.08829\n",
      "Training loss: 8.085267066955566\n",
      "Now best model has 8.085267066955566 loss\n",
      "Saving model\n",
      "time | significant, australian, personal, threat, however\n",
      "anthropology | challenge, reason, completely, taggart, added\n",
      "would | models, arts, book, meaning, marked\n",
      "general | paid, captured, invasion, wealth, campaign\n",
      "best | frederick, associated, protest, captured, light\n",
      "seven | georgia, crop, classified, drawn, decades\n",
      "well | follows, received, job, bishop, locations\n",
      "see | bar, national, emphasis, traditional, bringing\n",
      "language | mexican, compatibility, historical, emotional, job\n",
      "human | reading, stop, hope, appropriate, charity\n",
      "increasing | historic, characteristics, talk, version, hidden\n",
      "birth | half, ore, law, disease, edward\n",
      "conditions | amount, contiguous, mixture, criticism, questions\n",
      "product | improvements, long, tis, mode, proposed\n",
      "rebellion | wyatt, performing, presidential, guilty, theme\n",
      "highest | sample, interested, opponents, fao, transport\n",
      "ages | making, plea, largely, students, publicly\n",
      "stalin | exports, terms, protocol, positions, material\n",
      "aristotelian | writing, encoding, rock, hot, plan\n",
      "opposition | autism, abandoned, appeals, process, courts\n",
      "###################### EPOCH 3 ###########################\n"
     ]
    },
    {
     "data": {
      "application/vnd.jupyter.widget-view+json": {
       "model_id": "5e2df7576d9345c9914554fd50a09112",
       "version_major": 2,
       "version_minor": 0
      },
      "text/plain": [
       "  0%|          | 0/25 [00:00<?, ?it/s]"
      ]
     },
     "metadata": {},
     "output_type": "display_data"
    },
    {
     "name": "stdout",
     "output_type": "stream",
     "text": [
      "Current Training Loss 8.08262\n",
      "Training loss: 8.081289291381836\n",
      "Now best model has 8.081289291381836 loss\n",
      "Saving model\n",
      "system | embraced, meeting, spanish, announced, similarities\n",
      "since | cure, carl, angles, destroy, may\n",
      "south | implementation, modes, descendants, collective, speaking\n",
      "c | nation, afc, topic, norway, computers\n",
      "also | expensive, telephus, seward, fourth, violent\n",
      "would | models, arts, book, meaning, marked\n",
      "general | paid, captured, invasion, wealth, campaign\n",
      "b | average, alan, class, diagnostic, educated\n",
      "modern | oscars, africa, factors, compare, nicomachean\n",
      "world | oscar, devoted, situations, decide, mexican\n",
      "married | enemies, ion, issued, mention, nature\n",
      "actions | chapter, temperatures, corruption, revolutionary, carbon\n",
      "basic | wrote, shrugged, along, topics, ellis\n",
      "easily | mexican, seward, sheikh, historical, arid\n",
      "truth | council, movie, proudhon, fully, spread\n",
      "reading | newman, stamps, human, mere, mainly\n",
      "thomas | meet, bank, occurred, anthropology, special\n",
      "studied | successfully, contemporary, strength, award, lines\n",
      "successful | bc, plea, titles, bad, twentieth\n",
      "grant | difference, mexico, younger, terms, first\n",
      "###################### EPOCH 4 ###########################\n"
     ]
    },
    {
     "data": {
      "application/vnd.jupyter.widget-view+json": {
       "model_id": "4846eb407e7c4d30b9b369cce3c5d2c3",
       "version_major": 2,
       "version_minor": 0
      },
      "text/plain": [
       "  0%|          | 0/25 [00:00<?, ?it/s]"
      ]
     },
     "metadata": {},
     "output_type": "display_data"
    },
    {
     "name": "stdout",
     "output_type": "stream",
     "text": [
      "Current Training Loss 8.07942\n",
      "Training loss: 8.078763008117676\n",
      "Now best model has 8.078763008117676 loss\n",
      "Saving model\n",
      "taggart | sought, york, ethical, vowel, anthropology\n",
      "used | grain, account, san, intent, uae\n",
      "seven | georgia, crop, classified, motor, drawn\n",
      "th | poor, egoism, leads, sub, attempt\n",
      "like | concept, city, nd, literacy, artists\n",
      "anarchism | team, diverse, passage, included, ethiopia\n",
      "social | heavy, bound, branch, shrugged, indeed\n",
      "called | away, oracle, petroleum, sovereignty, ethics\n",
      "number | deaf, required, smaller, somewhat, global\n",
      "world | oscar, devoted, situations, decide, mexican\n",
      "anthropological | prefix, sp, separated, soon, better\n",
      "ha | congo, front, expression, england, berbers\n",
      "freedom | multiple, intended, rett, ca, al\n",
      "product | improvements, long, tis, mode, proposed\n",
      "soul | patroclus, resistance, feelings, dissociation, seriously\n",
      "market | structures, may, victim, pig, sex\n",
      "approach | films, reach, agricultural, four, regard\n",
      "clear | efforts, keep, transport, anarchists, freeing\n",
      "efforts | plus, clear, rothbard, essential, leading\n",
      "signed | emirates, frequently, angeles, myths, ideas\n"
     ]
    }
   ],
   "source": [
    "# train for some number of epochs\n",
    "epochs = 5\n",
    "train_loss_history = []\n",
    "tbar = trange(epochs)\n",
    "\n",
    "for epoch in tbar:\n",
    "    print(f\"###################### EPOCH {epoch} ###########################\")\n",
    "    \n",
    "    train_loss = train_default(model, train_dataloader, criterion, optimizer)\n",
    "    print(\"Training loss:\", train_loss.item())\n",
    "    train_loss_history.append(train_loss.item())\n",
    "    \n",
    "    # Keep track of the best model\n",
    "    update_best_loss(model, train_loss)\n",
    "    \n",
    "    embeddings = model.embedding.weight.data.detach().numpy()\n",
    "    evaluate(embeddings, text8_dataset.id_to_tokens, nb_words=20)"
   ]
  },
  {
   "cell_type": "code",
   "execution_count": 14,
   "id": "5f6cb051-d9e0-401c-94cd-7e79586a2c8b",
   "metadata": {},
   "outputs": [
    {
     "data": {
      "image/png": "[encoded data removed]",
      "text/plain": [
       "<Figure size 432x288 with 1 Axes>"
      ]
     },
     "metadata": {
      "needs_background": "light"
     },
     "output_type": "display_data"
    }
   ],
   "source": [
    "plt.plot(train_loss_history, label = \"Train Loss\")\n",
    "plt.xlabel(\"Epoch\")\n",
    "plt.ylabel(\"Loss\")\n",
    "plt.legend() \n",
    "plt.title('Training and Validation Loss')\n",
    "plt.show() "
   ]
  }
 ],
 "metadata": {
  "kernelspec": {
   "display_name": "Python 3 (ipykernel)",
   "language": "python",
   "name": "python3"
  },
  "language_info": {
   "codemirror_mode": {
    "name": "ipython",
    "version": 3
   },
   "file_extension": ".py",
   "mimetype": "text/x-python",
   "name": "python",
   "nbconvert_exporter": "python",
   "pygments_lexer": "ipython3",
   "version": "3.8.10"
  }
 },
 "nbformat": 4,
 "nbformat_minor": 5
}
